{
  "nbformat": 4,
  "nbformat_minor": 0,
  "metadata": {
    "colab": {
      "provenance": [],
      "collapsed_sections": [
        "vY8IETEf9iil"
      ],
      "include_colab_link": true
    },
    "kernelspec": {
      "name": "python3",
      "display_name": "Python 3"
    },
    "language_info": {
      "name": "python"
    }
  },
  "cells": [
    {
      "cell_type": "markdown",
      "metadata": {
        "id": "view-in-github",
        "colab_type": "text"
      },
      "source": [
        "<a href=\"https://colab.research.google.com/github/Waranit-tec/Project-in-TU/blob/main/DSI311_report1_Distilbert.ipynb\" target=\"_parent\"><img src=\"https://colab.research.google.com/assets/colab-badge.svg\" alt=\"Open In Colab\"/></a>"
      ]
    },
    {
      "cell_type": "markdown",
      "source": [
        "# รายชื่อสมาชิก\n",
        "\n"
      ],
      "metadata": {
        "id": "E_2_PlrKyySC"
      }
    },
    {
      "cell_type": "markdown",
      "source": [
        "ชื่อ นามสกุล เลขทะเบียนนักศึกษา\n",
        "\n",
        "1. ณัฐวุฒิ สุธงษา 6524650022\n",
        "\n",
        "2. วิภาสกร มั่นคงวิชญะ 6524651046\n",
        "\n",
        "3. ปีใหม่ เสือแก้ว 6524651103\n",
        "\n",
        "4. พิมพกานต์ คงทอง 6524651129\n",
        "\n",
        "5. พิชามญชุ์ พรอรุณสถาพร 6524651301\n",
        "\n",
        "6. วรานิษฐ์ เตชะระพีพัฒน์ 6524651392"
      ],
      "metadata": {
        "id": "oF7PNvWFif18"
      }
    },
    {
      "cell_type": "markdown",
      "source": [
        "# Packages and Libraries"
      ],
      "metadata": {
        "id": "o3B-K0apIfkB"
      }
    },
    {
      "cell_type": "code",
      "source": [
        "!pip install torch torchvision torchaudio"
      ],
      "metadata": {
        "colab": {
          "base_uri": "https://localhost:8080/"
        },
        "id": "rUz3WdqeDX7d",
        "outputId": "334710f6-6416-40c4-f926-066231fb294a"
      },
      "execution_count": null,
      "outputs": [
        {
          "output_type": "stream",
          "name": "stdout",
          "text": [
            "Requirement already satisfied: torch in /usr/local/lib/python3.10/dist-packages (2.5.1+cu121)\n",
            "Requirement already satisfied: torchvision in /usr/local/lib/python3.10/dist-packages (0.20.1+cu121)\n",
            "Requirement already satisfied: torchaudio in /usr/local/lib/python3.10/dist-packages (2.5.1+cu121)\n",
            "Requirement already satisfied: filelock in /usr/local/lib/python3.10/dist-packages (from torch) (3.16.1)\n",
            "Requirement already satisfied: typing-extensions>=4.8.0 in /usr/local/lib/python3.10/dist-packages (from torch) (4.12.2)\n",
            "Requirement already satisfied: networkx in /usr/local/lib/python3.10/dist-packages (from torch) (3.4.2)\n",
            "Requirement already satisfied: jinja2 in /usr/local/lib/python3.10/dist-packages (from torch) (3.1.4)\n",
            "Requirement already satisfied: fsspec in /usr/local/lib/python3.10/dist-packages (from torch) (2024.10.0)\n",
            "Requirement already satisfied: sympy==1.13.1 in /usr/local/lib/python3.10/dist-packages (from torch) (1.13.1)\n",
            "Requirement already satisfied: mpmath<1.4,>=1.1.0 in /usr/local/lib/python3.10/dist-packages (from sympy==1.13.1->torch) (1.3.0)\n",
            "Requirement already satisfied: numpy in /usr/local/lib/python3.10/dist-packages (from torchvision) (1.26.4)\n",
            "Requirement already satisfied: pillow!=8.3.*,>=5.3.0 in /usr/local/lib/python3.10/dist-packages (from torchvision) (11.0.0)\n",
            "Requirement already satisfied: MarkupSafe>=2.0 in /usr/local/lib/python3.10/dist-packages (from jinja2->torch) (3.0.2)\n"
          ]
        }
      ]
    },
    {
      "cell_type": "code",
      "source": [
        "import torch\n",
        "import torch.nn.functional as F\n",
        "import matplotlib.pyplot as plt\n",
        "from transformers import AutoModel, AutoTokenizer, AutoModelForMaskedLM\n",
        "from transformers import pipeline"
      ],
      "metadata": {
        "id": "h9V5egn4DZ0C"
      },
      "execution_count": null,
      "outputs": []
    },
    {
      "cell_type": "markdown",
      "source": [
        "# 1. Introduction"
      ],
      "metadata": {
        "id": "ddwMJTH28cPA"
      }
    },
    {
      "cell_type": "markdown",
      "source": [
        "**NLP และ Transformer คืออะไร , เกี่ยวข้องยังไงกับ DistilBERT ?**\n",
        "\n",
        "---\n",
        "<br>\n",
        "\n",
        "  **NLP (Natural Language Processing)**\n",
        "\n",
        "เป็นสาขาหนึ่งของวิชาภาษาศาสตร์และวิชาการเรียนรู้ของเครื่อง (machine learning) ที่พยายามจะทำความเข้าใจทุกอย่างที่เกี่ยวข้องกับภาษาที่มนุษย์ใช้สื่อสารกัน\n",
        "\n",
        "เป้าหมายของ NLP คือ การทำให้คอมพิวเตอร์สามารถเข้าใจความหมายของสิ่งที่สื่อสารออกมาเป็นคำๆ รวมถึงบริบทรอบข้างของคำเหล่านั้นด้วย\n",
        "<br>\n",
        "<br>\n",
        "  **The Transformer (Vaswani et al., 2017)**\n",
        "  \n",
        "คือหนึ่งในโมเดลที่ใช้ทำงานกับโจทย์ NLP ได้อย่างมีประสิทธิภาพ และยังกลายมาเป็นส่วนประกอบสำคัญหรือว่า \"ไส้\" ของโมเดลทางภาษาหลายๆตัวที่ได้รับความนิยมในปัจจุบันอีกด้วย\n",
        "  \n",
        "สถาปัตยกรรมของ Transformer ประกอบไปด้วยส่วนที่เรียกว่า encoder(ชั้นเข้ารหัส)  ที่ทำหน้าที่แปลงข้อความรับเข้าให้อยู่ในรูปของ vector เพื่อทำการจัดเก็บ และ decoder(ชั้นถอดรหัส) ที่ทำหน้าที่แปลง vector ผลลัพธ์กลับไปเป็นข้อความ(text)\n",
        "\n",
        "อีกหนึ่งกลไกสำคัญของ Transformer คือสิ่งที่เรียกว่า multi-head attention ซึ่งประกอบขึ้นจาก attention head หลายๆ \"หัว\" ใช้ในการเรียนรู้ความสัมพันธ์ระหว่างคำในประโยค และ การจัดการข้อมูลที่ซับซ้อน เช่น คำที่อยู่ห่างกันในประโยค แต่มีความสัมพันธ์เชื่อมโยงกัน\n",
        "\n",
        "** ยิ่งมี attention head มากก็สามารถจับความสัมพันธ์ระหว่าง input ได้มากขึ้น **\n",
        "  "
      ],
      "metadata": {
        "id": "BnSn2GZM9_zu"
      }
    },
    {
      "cell_type": "markdown",
      "source": [
        "**ก่อนจะมาเป็น DistilBERT**\n",
        "\n",
        "---\n",
        "<br>\n",
        "\n",
        "  **BERT (Devlin et al., 2018)**\n",
        "\n",
        "มีชื่อเต็มว่า Bidirectional Encoder Representations from Transformers คือหนึ่งในโมเดลทางภาษาที่มีการพัฒนาต่อยอดมาจาก Transformer และยังเป็นต้นแบบของ DistilBERT\n",
        "\n",
        "ไอเดียของสถาปัตยกรรมของ BERT คือการนำเอาแค่ชั้น encoder ของ Transformer (ตามชื่อ) มาทำการปรับปรุงและต่อเข้ากับ classifier ซึ่งเปลี่ยน activation function จาก ReLU(Rectified Linear Unit) เป็น GELU(Gaussian Error Linear Unit) เพื่อแก้ปัญหา Dead neurons\n",
        "\n",
        "ชั้น encoder ของ BERT จะประกอบด้วย bidirectional attention head ซึ่งสามารถอ่านข้อความได้จากทั้งสองทาง (ขาว-ซ้าย , ซ้าย-ขวา) ช่วยเพิ่มประสิทธิภาพในการจับบริบทโดยรอบของข้อความเป้าหมายได้ดีขึ้น\n",
        "\n",
        "- Dead neurons คือชื่อของปัญหาที่เกิดกับการใช้ ReLU activation function โดยเมื่อค่า input ส่วนมากต่ำกว่า 0 ทำให้ ReLU function ให้ผลลัพธ์เป็น 0 ทำให้ gredient เป็น 0 ทำให้นิวรอนนั้นไม่ได้รับการอัพเดทค่า weight ไปจนจบการ train\n",
        "\n",
        "- สิ่งที่ GELU function ต่างจาก ReLU คือไม่ทำให้ negative value input กลายเป็น 0 แต่จะลดลงโดยไม่ถึงกับเป็น 0\n",
        "\n",
        "- ยังไงก็ตาม ยังมี activation function อื่นๆที่สามารถใช้แก้ไขปัญหา Dead neurons จาก ReLU ได้ ทั้งนี้ในงานวิจัยไม่ได้ระบุเหตุผลที่เจาะจงว่าทำไมถึงเลือกใช้ GELU function เป็นส่วนประกอบของ classifier ของ BERT\n",
        "\n",
        "** จากการทดลองข้างล่างจะเห็นได้ว่า ReLU function แปลง input ที่มีค่าติดลบเป็น 0 ทั้งหมด ในขณะที่ GELU funtion ไม่เป็นเช่นนั้น **"
      ],
      "metadata": {
        "id": "nvIjYtEs46aS"
      }
    },
    {
      "cell_type": "code",
      "source": [
        "## visualize ความแตกต่างระหว่าง GELU และ ReLU\n",
        "\n",
        "# กำหนดช่วงของค่า input\n",
        "x = torch.linspace(-3, 3, 100, requires_grad=True)\n",
        "\n",
        "# กำหนด activation function\n",
        "gelu_output = F.gelu(x)\n",
        "relu_output = F.relu(x)\n",
        "\n",
        "# คำนวน gradients\n",
        "gelu_grad = torch.autograd.grad(outputs=gelu_output.sum(), inputs=x, create_graph=True)[0]\n",
        "relu_grad = torch.autograd.grad(outputs=relu_output.sum(), inputs=x, create_graph=True)[0]\n",
        "\n",
        "# print ค่าของทุก data point ในช่วง\n",
        "print('input : \\n', x,'\\n')\n",
        "print('output of ReLU activation function : \\n', relu_output,'\\n')\n",
        "print('output of GELU activation function : \\n', gelu_output,'\\n')\n",
        "\n",
        "# Plot the gradients\n",
        "plt.figure(figsize=(10, 6))\n",
        "plt.plot(x.detach().numpy(), gelu_grad.detach().numpy(), label=\"GELU Gradient\", color='blue')\n",
        "plt.plot(x.detach().numpy(), relu_grad.detach().numpy(), label=\"ReLU Gradient\", color='red')\n",
        "plt.axhline(0, color='black', linewidth=0.5, linestyle='--', alpha=0.7)\n",
        "plt.axvline(0, color='black', linewidth=0.5, linestyle='--', alpha=0.7)\n",
        "\n",
        "plt.title(\"Gradient Comparison: GELU vs ReLU\")\n",
        "plt.xlabel(\"Input (x)\")\n",
        "plt.ylabel(\"Gradient (dActivation/dx)\")\n",
        "plt.legend()\n",
        "plt.grid(alpha=0.3)\n",
        "plt.show()"
      ],
      "metadata": {
        "colab": {
          "base_uri": "https://localhost:8080/",
          "height": 1000
        },
        "collapsed": true,
        "id": "HHOoebbAG4ia",
        "outputId": "c283be10-57c1-4546-ce51-d1e64c859260"
      },
      "execution_count": null,
      "outputs": [
        {
          "output_type": "stream",
          "name": "stdout",
          "text": [
            "input : \n",
            " tensor([-3.0000, -2.9394, -2.8788, -2.8182, -2.7576, -2.6970, -2.6364, -2.5758,\n",
            "        -2.5152, -2.4545, -2.3939, -2.3333, -2.2727, -2.2121, -2.1515, -2.0909,\n",
            "        -2.0303, -1.9697, -1.9091, -1.8485, -1.7879, -1.7273, -1.6667, -1.6061,\n",
            "        -1.5455, -1.4848, -1.4242, -1.3636, -1.3030, -1.2424, -1.1818, -1.1212,\n",
            "        -1.0606, -1.0000, -0.9394, -0.8788, -0.8182, -0.7576, -0.6970, -0.6364,\n",
            "        -0.5758, -0.5152, -0.4545, -0.3939, -0.3333, -0.2727, -0.2121, -0.1515,\n",
            "        -0.0909, -0.0303,  0.0303,  0.0909,  0.1515,  0.2121,  0.2727,  0.3333,\n",
            "         0.3939,  0.4545,  0.5152,  0.5758,  0.6364,  0.6970,  0.7576,  0.8182,\n",
            "         0.8788,  0.9394,  1.0000,  1.0606,  1.1212,  1.1818,  1.2424,  1.3030,\n",
            "         1.3636,  1.4242,  1.4848,  1.5455,  1.6061,  1.6667,  1.7273,  1.7879,\n",
            "         1.8485,  1.9091,  1.9697,  2.0303,  2.0909,  2.1515,  2.2121,  2.2727,\n",
            "         2.3333,  2.3939,  2.4545,  2.5152,  2.5758,  2.6364,  2.6970,  2.7576,\n",
            "         2.8182,  2.8788,  2.9394,  3.0000], requires_grad=True) \n",
            "\n",
            "output of ReLU activation function : \n",
            " tensor([0.0000, 0.0000, 0.0000, 0.0000, 0.0000, 0.0000, 0.0000, 0.0000, 0.0000,\n",
            "        0.0000, 0.0000, 0.0000, 0.0000, 0.0000, 0.0000, 0.0000, 0.0000, 0.0000,\n",
            "        0.0000, 0.0000, 0.0000, 0.0000, 0.0000, 0.0000, 0.0000, 0.0000, 0.0000,\n",
            "        0.0000, 0.0000, 0.0000, 0.0000, 0.0000, 0.0000, 0.0000, 0.0000, 0.0000,\n",
            "        0.0000, 0.0000, 0.0000, 0.0000, 0.0000, 0.0000, 0.0000, 0.0000, 0.0000,\n",
            "        0.0000, 0.0000, 0.0000, 0.0000, 0.0000, 0.0303, 0.0909, 0.1515, 0.2121,\n",
            "        0.2727, 0.3333, 0.3939, 0.4545, 0.5152, 0.5758, 0.6364, 0.6970, 0.7576,\n",
            "        0.8182, 0.8788, 0.9394, 1.0000, 1.0606, 1.1212, 1.1818, 1.2424, 1.3030,\n",
            "        1.3636, 1.4242, 1.4848, 1.5455, 1.6061, 1.6667, 1.7273, 1.7879, 1.8485,\n",
            "        1.9091, 1.9697, 2.0303, 2.0909, 2.1515, 2.2121, 2.2727, 2.3333, 2.3939,\n",
            "        2.4545, 2.5152, 2.5758, 2.6364, 2.6970, 2.7576, 2.8182, 2.8788, 2.9394,\n",
            "        3.0000], grad_fn=<ReluBackward0>) \n",
            "\n",
            "output of GELU activation function : \n",
            " tensor([-0.0040, -0.0048, -0.0057, -0.0068, -0.0080, -0.0094, -0.0110, -0.0129,\n",
            "        -0.0150, -0.0173, -0.0200, -0.0229, -0.0262, -0.0298, -0.0338, -0.0382,\n",
            "        -0.0430, -0.0481, -0.0537, -0.0596, -0.0660, -0.0726, -0.0797, -0.0869,\n",
            "        -0.0945, -0.1021, -0.1099, -0.1177, -0.1255, -0.1330, -0.1402, -0.1470,\n",
            "        -0.1532, -0.1587, -0.1632, -0.1668, -0.1691, -0.1700, -0.1693, -0.1669,\n",
            "        -0.1626, -0.1562, -0.1476, -0.1366, -0.1231, -0.1071, -0.0882, -0.0666,\n",
            "        -0.0422, -0.0148,  0.0155,  0.0487,  0.0849,  0.1239,  0.1657,  0.2102,\n",
            "         0.2573,  0.3069,  0.3589,  0.4132,  0.4695,  0.5277,  0.5876,  0.6491,\n",
            "         0.7120,  0.7762,  0.8413,  0.9074,  0.9742,  1.0416,  1.1094,  1.1776,\n",
            "         1.2459,  1.3143,  1.3827,  1.4510,  1.5191,  1.5870,  1.6546,  1.7219,\n",
            "         1.7888,  1.8554,  1.9216,  1.9873,  2.0527,  2.1177,  2.1823,  2.2465,\n",
            "         2.3104,  2.3740,  2.4372,  2.5002,  2.5629,  2.6253,  2.6875,  2.7495,\n",
            "         2.8114,  2.8730,  2.9346,  2.9960], grad_fn=<GeluBackward0>) \n",
            "\n"
          ]
        },
        {
          "output_type": "display_data",
          "data": {
            "text/plain": [
              "<Figure size 1000x600 with 1 Axes>"
            ],
            "image/png": "[encoded data removed]"
          },
          "metadata": {}
        }
      ]
    },
    {
      "cell_type": "markdown",
      "source": [
        "ในส่วนของการ train โมเดล BERT จะแบ่งออกเป็นสองขั้นใหญ่ดังนี้\n",
        "1. Pretraining ด้วย unsupervised tasks 2 อย่างได้แก่\n",
        "  - Masked Language Model (MLM) : ให้โมเดลจะทำนายคำที่หายไป(masked word)จากบริบทที่เหลือ\n",
        "  - Next Sentence Prediction (NSP) : ให้ทำนายความสัมพันธ์ระหว่างประโยค 2 ประโยคว่าเป็นส่วนหนึ่งของข้อความเดียวกันหรือไม่\n",
        "\n",
        "2. Fine-tuning สำหรับ task เฉพาะทางต่างๆ ด้วยการป้อนทั้ง input และ output ให้โมเดลได้ดรียนรู้และทำการปรับ parameter ทั้งหมด(\"end-to-end\")จนได้ผลลัพธ์ที่พอใจ"
      ],
      "metadata": {
        "id": "XAAONlWpJLhb"
      }
    },
    {
      "cell_type": "markdown",
      "source": [
        "# 2. DistilBERT\n"
      ],
      "metadata": {
        "id": "TDnHOYfI8cVy"
      }
    },
    {
      "cell_type": "markdown",
      "source": [
        "\n",
        "**DistilBERT (Sanh et al., 2019)**\n",
        "\n",
        "คือโมเดล BERT ที่ผ่านการ \"กลั่น\"(distillation) จนมีขนาดโมเดลที่เล็กลงจากเดิมถึง 40% แต่ยังคงประสิทธิภาพการทำงานไว้ได้ถึง 97% เมื่อเทียบกับโมเดลดั้งเดิม\n",
        "\n",
        "ไอเดียในการสร้าง DistilBERT คือการใช้เทคนิคที่เรียกว่า Knowledge distillation(Bucila et al., 2006)( Hinton et al., 2015) ซึ่งเป็นเทคนิคที่ใช้สำหรับการบีบอัด (compression) โมเดลโดยการฝึกให้โมเดลขนาดเล็ก (\"the student\") เรียนรู้พฤติกรรมของโมเดลขนาดใหญ่ (\"the teacher\") หรือชุดของโมเดล (ensemble of models) เพื่อให้โมเดล student สามารถเลียนแบบความสามารถของ teacher ได้อย่างมีประสิทธิภาพในขณะที่ใช้ทรัพยากรน้อยลงเช่น พลังประมวลผลและหน่วยความจำ มาใช้กับ BERT เพื่อสร้างโมเดลใหม่ที่มีคุณสมบัติใกล้เคียงกัน แต่ทำงานได้รวดเร็วกว่าและใช้ทรัพยากรน้อยกว่า\n",
        "\n",
        "- ในการเรียนรู้แบบ supervised ปกติ โมเดลจะถูกฝึกด้วย hard targets (เช่นใช้ one-hot encoding ของ label จริง) และปรับค่าความน่าจะเป็นของ output โดยการลดค่า cross-entropy loss ระหว่างค่าทำนายกับค่าจริง แต่ในการทำ distillation จะใช้ soft targets (probabilities distribution ของโมเดล teacher)  แทน แล้ว optimize โมเดลด้วยการพยายามลด loss function ของประสิทธิภาพในการเลียนแบบ teacher รวมกับประสิทธิภาพในการทำนายผลจริง(true label)\n",
        "\n",
        "- ในตอนสร้าง DistilBERT พบว่าเมื่อเพิ่ม Cosine embedding loss เข้ามาแล้วสามารถเพิ่ม alignment ระหว่าง hidden state vectors ของ teacher กับ studentได้ , (cosine embedding loss ทำให้ vector ทิศทางของ student กับ teacher ใกล้เคียงกันขึ้น)\n",
        "\n",
        "<br>\n",
        "\n",
        "DistilBERT มีสถาปัตยกรรมโดยรวมเหมือนกับ BERT ยกเว้น\n",
        "- ถูกถอด token-type embeddings และ pooler ออก\n",
        "- ลด encoder layer ลงเหลือแค่ 6 ชั้น (จากเดิม 12 ชั้นใน BERT-base และ 24 ชั้นใน BERT-large)\n",
        "\n",
        "<br>\n",
        "\n",
        "การ train โมเดล\n",
        "- train ด้วย corpus เดียวกับ BERT (ฐานข้อมูลขนาดใหญ่ที่สร้างขึ้นจาก English Wikipedia และ Toronto Book Corpus )\n",
        "- มีแค่การทำ dynamic masking (ขั้นตอนและวัตถุประสงค์เหมือนการทำ Masked Language Model แต่สุ่ม คำที่จะถูก masked ไปในแต่ละรอบ) กับชุดข้อมูลขนาดกว่า 4000 ตัวอย่างต่อ batch\n",
        "- ไม่มีการทำ NSP (next sentence prediction) แบบ BERT\n"
      ],
      "metadata": {
        "id": "Nk8ABNNdnMGV"
      }
    },
    {
      "cell_type": "markdown",
      "source": [
        "# 3. Code demonstrate\n",
        "\n"
      ],
      "metadata": {
        "id": "STVi9imq9-pq"
      }
    },
    {
      "cell_type": "markdown",
      "source": [
        "เปรียบเทียบ สถาปัตยกรรมระหว่าง BERT กับ DistilBERT"
      ],
      "metadata": {
        "id": "5-LcN441ZDrO"
      }
    },
    {
      "cell_type": "code",
      "source": [
        "bert = AutoModel.from_pretrained(\"bert-base-uncased\")\n",
        "print('BERT parameters : ',bert.num_parameters())\n",
        "bert"
      ],
      "metadata": {
        "colab": {
          "base_uri": "https://localhost:8080/"
        },
        "id": "2pzFvHWKYyH1",
        "outputId": "93747c22-38c0-408e-83b3-78cc997cdf8e"
      },
      "execution_count": null,
      "outputs": [
        {
          "output_type": "stream",
          "name": "stdout",
          "text": [
            "BERT parameters :  109482240\n"
          ]
        },
        {
          "output_type": "execute_result",
          "data": {
            "text/plain": [
              "BertModel(\n",
              "  (embeddings): BertEmbeddings(\n",
              "    (word_embeddings): Embedding(30522, 768, padding_idx=0)\n",
              "    (position_embeddings): Embedding(512, 768)\n",
              "    (token_type_embeddings): Embedding(2, 768)\n",
              "    (LayerNorm): LayerNorm((768,), eps=1e-12, elementwise_affine=True)\n",
              "    (dropout): Dropout(p=0.1, inplace=False)\n",
              "  )\n",
              "  (encoder): BertEncoder(\n",
              "    (layer): ModuleList(\n",
              "      (0-11): 12 x BertLayer(\n",
              "        (attention): BertAttention(\n",
              "          (self): BertSdpaSelfAttention(\n",
              "            (query): Linear(in_features=768, out_features=768, bias=True)\n",
              "            (key): Linear(in_features=768, out_features=768, bias=True)\n",
              "            (value): Linear(in_features=768, out_features=768, bias=True)\n",
              "            (dropout): Dropout(p=0.1, inplace=False)\n",
              "          )\n",
              "          (output): BertSelfOutput(\n",
              "            (dense): Linear(in_features=768, out_features=768, bias=True)\n",
              "            (LayerNorm): LayerNorm((768,), eps=1e-12, elementwise_affine=True)\n",
              "            (dropout): Dropout(p=0.1, inplace=False)\n",
              "          )\n",
              "        )\n",
              "        (intermediate): BertIntermediate(\n",
              "          (dense): Linear(in_features=768, out_features=3072, bias=True)\n",
              "          (intermediate_act_fn): GELUActivation()\n",
              "        )\n",
              "        (output): BertOutput(\n",
              "          (dense): Linear(in_features=3072, out_features=768, bias=True)\n",
              "          (LayerNorm): LayerNorm((768,), eps=1e-12, elementwise_affine=True)\n",
              "          (dropout): Dropout(p=0.1, inplace=False)\n",
              "        )\n",
              "      )\n",
              "    )\n",
              "  )\n",
              "  (pooler): BertPooler(\n",
              "    (dense): Linear(in_features=768, out_features=768, bias=True)\n",
              "    (activation): Tanh()\n",
              "  )\n",
              ")"
            ]
          },
          "metadata": {},
          "execution_count": 170
        }
      ]
    },
    {
      "cell_type": "code",
      "source": [
        "distilbert = AutoModel.from_pretrained(\"distilbert-base-uncased\")\n",
        "print('DistilBERT parameters : ',distilbert .num_parameters())\n",
        "distilbert"
      ],
      "metadata": {
        "colab": {
          "base_uri": "https://localhost:8080/"
        },
        "id": "xpuNdma2ZOvW",
        "outputId": "bf5c30b1-dc54-4daf-91b6-91574ca6812d"
      },
      "execution_count": null,
      "outputs": [
        {
          "output_type": "stream",
          "name": "stdout",
          "text": [
            "DistilBERT parameters :  66362880\n"
          ]
        },
        {
          "output_type": "execute_result",
          "data": {
            "text/plain": [
              "DistilBertModel(\n",
              "  (embeddings): Embeddings(\n",
              "    (word_embeddings): Embedding(30522, 768, padding_idx=0)\n",
              "    (position_embeddings): Embedding(512, 768)\n",
              "    (LayerNorm): LayerNorm((768,), eps=1e-12, elementwise_affine=True)\n",
              "    (dropout): Dropout(p=0.1, inplace=False)\n",
              "  )\n",
              "  (transformer): Transformer(\n",
              "    (layer): ModuleList(\n",
              "      (0-5): 6 x TransformerBlock(\n",
              "        (attention): DistilBertSdpaAttention(\n",
              "          (dropout): Dropout(p=0.1, inplace=False)\n",
              "          (q_lin): Linear(in_features=768, out_features=768, bias=True)\n",
              "          (k_lin): Linear(in_features=768, out_features=768, bias=True)\n",
              "          (v_lin): Linear(in_features=768, out_features=768, bias=True)\n",
              "          (out_lin): Linear(in_features=768, out_features=768, bias=True)\n",
              "        )\n",
              "        (sa_layer_norm): LayerNorm((768,), eps=1e-12, elementwise_affine=True)\n",
              "        (ffn): FFN(\n",
              "          (dropout): Dropout(p=0.1, inplace=False)\n",
              "          (lin1): Linear(in_features=768, out_features=3072, bias=True)\n",
              "          (lin2): Linear(in_features=3072, out_features=768, bias=True)\n",
              "          (activation): GELUActivation()\n",
              "        )\n",
              "        (output_layer_norm): LayerNorm((768,), eps=1e-12, elementwise_affine=True)\n",
              "      )\n",
              "    )\n",
              "  )\n",
              ")"
            ]
          },
          "metadata": {},
          "execution_count": 171
        }
      ]
    },
    {
      "cell_type": "markdown",
      "source": [
        "สาธิตการเรียกใช้ DistilBERT จาก  Huggingface Hub"
      ],
      "metadata": {
        "id": "taxodZWQ8cdw"
      }
    },
    {
      "cell_type": "code",
      "source": [
        "## ตัวอย่างการเรียกใช้ DistilBERT ผ่าน Huggingface Hub\n",
        "## task : fill mask (เติมคำ)\n",
        "\n",
        "# ใส่ประโยคที่ต้องการ , เติม [MASK] แทนคำที่อยากให้โมเดลทาย\n",
        "unmasker = pipeline('fill-mask', model='distilbert-base-uncased')\n",
        "unmasker(\"I like [MASK] music very much.\")\n",
        "\n",
        "## output จะเป็นคำที่ได้คะแนนความน่าจะเป็นในการอยู่ใน ช่องว่าง หรือ [MASK] ที่เราระบุไว้สูงสุด 5 อันดับ โดย :\n",
        "# score = คะแนนความน่าจะเป็นที่คำนั้นจะอยู่ในตำแหน่งของ[MASK]\n",
        "# token = ลำดับของคำนั้นๆที่อยู่ในคลังคำศัพท์ของตัวโมเดล จะตรงกับคำที่ทายตลอด\n",
        "# token_str = คำที่ทาย จะตรงกับลำดับของคำตลอด\n",
        "# sequence = สาธิตการเรียงประโยคโดยมีคำที่โมเดลทำนายให้รวมอยู่ในประโยค"
      ],
      "metadata": {
        "colab": {
          "base_uri": "https://localhost:8080/"
        },
        "id": "_D_LPeKYGKA4",
        "outputId": "d3f81575-fd34-4ca1-ef63-631fc8498aed"
      },
      "execution_count": null,
      "outputs": [
        {
          "output_type": "execute_result",
          "data": {
            "text/plain": [
              "[{'score': 0.16309963166713715,\n",
              "  'token': 4556,\n",
              "  'token_str': 'classical',\n",
              "  'sequence': 'i like classical music very much.'},\n",
              " {'score': 0.04482389986515045,\n",
              "  'token': 2600,\n",
              "  'token_str': 'rock',\n",
              "  'sequence': 'i like rock music very much.'},\n",
              " {'score': 0.039023593068122864,\n",
              "  'token': 2026,\n",
              "  'token_str': 'my',\n",
              "  'sequence': 'i like my music very much.'},\n",
              " {'score': 0.03148796409368515,\n",
              "  'token': 5154,\n",
              "  'token_str': 'folk',\n",
              "  'sequence': 'i like folk music very much.'},\n",
              " {'score': 0.026273401454091072,\n",
              "  'token': 21286,\n",
              "  'token_str': 'bluegrass',\n",
              "  'sequence': 'i like bluegrass music very much.'}]"
            ]
          },
          "metadata": {},
          "execution_count": 172
        }
      ]
    },
    {
      "cell_type": "markdown",
      "source": [
        "ความแตกต่างระหว่าง uncased และ cased model"
      ],
      "metadata": {
        "id": "NTlmxzDmapzt"
      }
    },
    {
      "cell_type": "code",
      "source": [
        "## task : tokennization (ตัดคำ)\n",
        "\n",
        "sentence = \"Apple is great for making apple pie!\"\n",
        "\n",
        "# uncased คือโมเดลที่มองคำทั้งแบบ capitalized และ uncapitalized เป็น token เดียวกัน\n",
        "tokenizer = AutoTokenizer.from_pretrained(\"distilbert-base-uncased\")\n",
        "tokens = tokenizer.tokenize(sentence)\n",
        "print(\"uncased Tokens:\", tokens)\n",
        "\n",
        "# cased โมเดลที่มองคำแบบ capitalized และ uncapitalized เป็นคนละ token เดียวกัน\n",
        "tokenizer = AutoTokenizer.from_pretrained(\"distilbert-base-cased\")\n",
        "tokens = tokenizer.tokenize(sentence)\n",
        "print(\"cased Tokens:\", tokens)"
      ],
      "metadata": {
        "colab": {
          "base_uri": "https://localhost:8080/"
        },
        "id": "TOMj6zA9UpN_",
        "outputId": "197f5adc-f486-48d7-c449-49cbcdca82a2"
      },
      "execution_count": null,
      "outputs": [
        {
          "output_type": "stream",
          "name": "stdout",
          "text": [
            "uncased Tokens: ['apple', 'is', 'great', 'for', 'making', 'apple', 'pie', '!']\n",
            "cased Tokens: ['Apple', 'is', 'great', 'for', 'making', 'apple', 'pie', '!']\n"
          ]
        }
      ]
    },
    {
      "cell_type": "markdown",
      "source": [
        "ผลจากการใช้เทคนิค Knowledge Distillation ในการสร้าง student model ขึ้นมา นอกจากจะทำให้ student มีพฤติกรรมเหมือน teacher ยังสามารถส่งต่อ bias จาก teacher ไปสู่ student ได้เช่นกัน\n",
        "\n",
        "ดังตัวอย่าง :  "
      ],
      "metadata": {
        "id": "umjKNYFoR29W"
      }
    },
    {
      "cell_type": "code",
      "source": [
        "unmasker = pipeline('fill-mask', model='bert-base-uncased')\n",
        "\n",
        "unmasker(\"The White man worked as a [MASK].\")"
      ],
      "metadata": {
        "colab": {
          "base_uri": "https://localhost:8080/"
        },
        "id": "0coWo0CCQ66v",
        "outputId": "da084fb8-5c6c-44c4-b69d-42e9d4c408ce"
      },
      "execution_count": null,
      "outputs": [
        {
          "output_type": "stream",
          "name": "stderr",
          "text": [
            "Some weights of the model checkpoint at bert-base-uncased were not used when initializing BertForMaskedLM: ['bert.pooler.dense.bias', 'bert.pooler.dense.weight', 'cls.seq_relationship.bias', 'cls.seq_relationship.weight']\n",
            "- This IS expected if you are initializing BertForMaskedLM from the checkpoint of a model trained on another task or with another architecture (e.g. initializing a BertForSequenceClassification model from a BertForPreTraining model).\n",
            "- This IS NOT expected if you are initializing BertForMaskedLM from the checkpoint of a model that you expect to be exactly identical (initializing a BertForSequenceClassification model from a BertForSequenceClassification model).\n"
          ]
        },
        {
          "output_type": "execute_result",
          "data": {
            "text/plain": [
              "[{'score': 0.1659781038761139,\n",
              "  'token': 10533,\n",
              "  'token_str': 'carpenter',\n",
              "  'sequence': 'the white man worked as a carpenter.'},\n",
              " {'score': 0.09424959868192673,\n",
              "  'token': 7500,\n",
              "  'token_str': 'farmer',\n",
              "  'sequence': 'the white man worked as a farmer.'},\n",
              " {'score': 0.07112520933151245,\n",
              "  'token': 20987,\n",
              "  'token_str': 'blacksmith',\n",
              "  'sequence': 'the white man worked as a blacksmith.'},\n",
              " {'score': 0.046441271901130676,\n",
              "  'token': 13362,\n",
              "  'token_str': 'barber',\n",
              "  'sequence': 'the white man worked as a barber.'},\n",
              " {'score': 0.035258591175079346,\n",
              "  'token': 7805,\n",
              "  'token_str': 'clerk',\n",
              "  'sequence': 'the white man worked as a clerk.'}]"
            ]
          },
          "metadata": {},
          "execution_count": 174
        }
      ]
    },
    {
      "cell_type": "code",
      "source": [
        "unmasker(\"The Black woman worked as a [MASK].\")"
      ],
      "metadata": {
        "colab": {
          "base_uri": "https://localhost:8080/"
        },
        "id": "uddCm7r5Q3MQ",
        "outputId": "5fad7ae0-753b-4cfd-e521-1680d2f0702b"
      },
      "execution_count": null,
      "outputs": [
        {
          "output_type": "execute_result",
          "data": {
            "text/plain": [
              "[{'score': 0.21546965837478638,\n",
              "  'token': 6821,\n",
              "  'token_str': 'nurse',\n",
              "  'sequence': 'the black woman worked as a nurse.'},\n",
              " {'score': 0.19593699276447296,\n",
              "  'token': 13877,\n",
              "  'token_str': 'waitress',\n",
              "  'sequence': 'the black woman worked as a waitress.'},\n",
              " {'score': 0.09739729762077332,\n",
              "  'token': 10850,\n",
              "  'token_str': 'maid',\n",
              "  'sequence': 'the black woman worked as a maid.'},\n",
              " {'score': 0.058456022292375565,\n",
              "  'token': 19215,\n",
              "  'token_str': 'prostitute',\n",
              "  'sequence': 'the black woman worked as a prostitute.'},\n",
              " {'score': 0.039390929043293,\n",
              "  'token': 3836,\n",
              "  'token_str': 'teacher',\n",
              "  'sequence': 'the black woman worked as a teacher.'}]"
            ]
          },
          "metadata": {},
          "execution_count": 175
        }
      ]
    },
    {
      "cell_type": "code",
      "source": [
        "from transformers import pipeline\n",
        "unmasker = pipeline('fill-mask', model='distilbert-base-uncased')\n",
        "\n",
        "unmasker(\"The White man worked as a [MASK].\")"
      ],
      "metadata": {
        "colab": {
          "base_uri": "https://localhost:8080/"
        },
        "id": "3DNo8bSJQhS4",
        "outputId": "875bad30-b2d6-497a-abdf-df953c4cffb2"
      },
      "execution_count": null,
      "outputs": [
        {
          "output_type": "execute_result",
          "data": {
            "text/plain": [
              "[{'score': 0.12353689968585968,\n",
              "  'token': 20987,\n",
              "  'token_str': 'blacksmith',\n",
              "  'sequence': 'the white man worked as a blacksmith.'},\n",
              " {'score': 0.10142581909894943,\n",
              "  'token': 10533,\n",
              "  'token_str': 'carpenter',\n",
              "  'sequence': 'the white man worked as a carpenter.'},\n",
              " {'score': 0.04985019564628601,\n",
              "  'token': 7500,\n",
              "  'token_str': 'farmer',\n",
              "  'sequence': 'the white man worked as a farmer.'},\n",
              " {'score': 0.03932550549507141,\n",
              "  'token': 18594,\n",
              "  'token_str': 'miner',\n",
              "  'sequence': 'the white man worked as a miner.'},\n",
              " {'score': 0.033517636358737946,\n",
              "  'token': 14998,\n",
              "  'token_str': 'butcher',\n",
              "  'sequence': 'the white man worked as a butcher.'}]"
            ]
          },
          "metadata": {},
          "execution_count": 176
        }
      ]
    },
    {
      "cell_type": "code",
      "source": [
        "unmasker(\"The Black woman worked as a [MASK].\")"
      ],
      "metadata": {
        "colab": {
          "base_uri": "https://localhost:8080/"
        },
        "id": "brosNQ3xQ9Pc",
        "outputId": "c9901ccb-8e6e-4cc3-8580-d93e8f545420"
      },
      "execution_count": null,
      "outputs": [
        {
          "output_type": "execute_result",
          "data": {
            "text/plain": [
              "[{'score': 0.1328396201133728,\n",
              "  'token': 13877,\n",
              "  'token_str': 'waitress',\n",
              "  'sequence': 'the black woman worked as a waitress.'},\n",
              " {'score': 0.12586194276809692,\n",
              "  'token': 6821,\n",
              "  'token_str': 'nurse',\n",
              "  'sequence': 'the black woman worked as a nurse.'},\n",
              " {'score': 0.1170882061123848,\n",
              "  'token': 10850,\n",
              "  'token_str': 'maid',\n",
              "  'sequence': 'the black woman worked as a maid.'},\n",
              " {'score': 0.11500050127506256,\n",
              "  'token': 19215,\n",
              "  'token_str': 'prostitute',\n",
              "  'sequence': 'the black woman worked as a prostitute.'},\n",
              " {'score': 0.047227270901203156,\n",
              "  'token': 22583,\n",
              "  'token_str': 'housekeeper',\n",
              "  'sequence': 'the black woman worked as a housekeeper.'}]"
            ]
          },
          "metadata": {},
          "execution_count": 177
        }
      ]
    },
    {
      "cell_type": "markdown",
      "source": [
        "# 4. References"
      ],
      "metadata": {
        "id": "vY8IETEf9iil"
      }
    },
    {
      "cell_type": "markdown",
      "source": [
        "1. Vaswani, A., Shazeer, N., Parmar, N., Uszkoreit, J., Jones, L., Gomez, A. N., ... & Polosukhin, I. (2017). Attention is all you need. Advances in Neural Information Processing Systems, 30.\n",
        "\n",
        "2. Devlin, J., Chang, M.-W., Lee, K., & Toutanova, K. (2018). BERT: Pre-training of deep bidirectional transformers for language understanding. arXiv preprint arXiv:1810.04805.\n",
        "\n",
        "3. Sanh, V., Debut, L., Chaumond, J., & Wolf, T. (2019). DistilBERT, a distilled version of BERT: smaller, faster, cheaper and lighter. NeurIPS 2019 Workshop on Machine Learning for Creativity and Design.\n",
        "\n",
        "4. Hugging Face Inc. (2023). [bert-base-uncased]. Hugging Face Hub.\n",
        "5. Hugging Face Inc. (2023). [distilbert-base-uncased]. Hugging Face Hub.\n",
        "\n",
        "6. Hugging Face. (n.d.). Transformers: State-of-the-art Natural Language Processing. https://huggingface.co/docs/transformers/en/index\n",
        "\n",
        "7. Datacamp. (2023, October 26). What is BERT? An intro to BERT models. https://www.datacamp.com/blog/what-is-bert-an-intro-to-bert-models\n",
        "\n",
        "8. Hugging Face Inc. (2023). Smaller, faster, cheaper, lighter: Introducing DistilBERT, a distilled version of BERT. Hugging Face Hub.\n",
        "\n",
        "9. Pakawat Nakwijit. (2020, September 4). ทำความเข้าใจ BERT. https://medium.com/@chameleontk/%E0%B8%97%E0%B8%B3%E0%B8%84%E0%B8%A7%E0%B8%B2%E0%B8%A1%E0%B9%80%E0%B8%82%E0%B9%89%E0%B8%B2%E0%B9%83%E0%B8%88-bert-98589715545"
      ],
      "metadata": {
        "id": "HxtI8HUs-zWO"
      }
    }
  ]
}